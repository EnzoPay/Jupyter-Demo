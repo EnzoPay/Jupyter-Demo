{
 "cells": [
  {
   "cell_type": "code",
   "execution_count": 57,
   "id": "51c7d532",
   "metadata": {},
   "outputs": [],
   "source": [
    "from keras import layers\n",
    "from keras import models"
   ]
  },
  {
   "cell_type": "code",
   "execution_count": 58,
   "id": "f1c9319e",
   "metadata": {},
   "outputs": [],
   "source": [
    "model = models.Sequential()\n",
    "model.add(layers.Dense(16, activation = \"relu\", input_shape = (10000,)))\n",
    "model.add(layers.Dense(16, activation = \"relu\"))\n",
    "model.add(layers.Dense(1, activation = \"sigmoid\"))"
   ]
  },
  {
   "cell_type": "code",
   "execution_count": 59,
   "id": "277e5d42",
   "metadata": {},
   "outputs": [],
   "source": [
    "from keras import optimizers"
   ]
  },
  {
   "cell_type": "code",
   "execution_count": 60,
   "id": "2ab9932e",
   "metadata": {},
   "outputs": [],
   "source": [
    "from keras import optimizers\n",
    "\n",
    "model.compile(optimizer=optimizers.legacy.RMSprop(learning_rate=0.001),\n",
    "              loss='binary_crossentropy',\n",
    "              metrics=['accuracy'])"
   ]
  },
  {
   "cell_type": "code",
   "execution_count": 61,
   "id": "4648b013",
   "metadata": {},
   "outputs": [],
   "source": [
    "from keras.datasets import imdb\n",
    "\n",
    "(train_data, train_labels), (test_data, test_labels) = imdb.load_data(num_words = 10000)"
   ]
  },
  {
   "cell_type": "code",
   "execution_count": 62,
   "id": "64b6db94",
   "metadata": {},
   "outputs": [
    {
     "data": {
      "text/plain": [
       "[1,\n",
       " 14,\n",
       " 22,\n",
       " 16,\n",
       " 43,\n",
       " 530,\n",
       " 973,\n",
       " 1622,\n",
       " 1385,\n",
       " 65,\n",
       " 458,\n",
       " 4468,\n",
       " 66,\n",
       " 3941,\n",
       " 4,\n",
       " 173,\n",
       " 36,\n",
       " 256,\n",
       " 5,\n",
       " 25,\n",
       " 100,\n",
       " 43,\n",
       " 838,\n",
       " 112,\n",
       " 50,\n",
       " 670,\n",
       " 2,\n",
       " 9,\n",
       " 35,\n",
       " 480,\n",
       " 284,\n",
       " 5,\n",
       " 150,\n",
       " 4,\n",
       " 172,\n",
       " 112,\n",
       " 167,\n",
       " 2,\n",
       " 336,\n",
       " 385,\n",
       " 39,\n",
       " 4,\n",
       " 172,\n",
       " 4536,\n",
       " 1111,\n",
       " 17,\n",
       " 546,\n",
       " 38,\n",
       " 13,\n",
       " 447,\n",
       " 4,\n",
       " 192,\n",
       " 50,\n",
       " 16,\n",
       " 6,\n",
       " 147,\n",
       " 2025,\n",
       " 19,\n",
       " 14,\n",
       " 22,\n",
       " 4,\n",
       " 1920,\n",
       " 4613,\n",
       " 469,\n",
       " 4,\n",
       " 22,\n",
       " 71,\n",
       " 87,\n",
       " 12,\n",
       " 16,\n",
       " 43,\n",
       " 530,\n",
       " 38,\n",
       " 76,\n",
       " 15,\n",
       " 13,\n",
       " 1247,\n",
       " 4,\n",
       " 22,\n",
       " 17,\n",
       " 515,\n",
       " 17,\n",
       " 12,\n",
       " 16,\n",
       " 626,\n",
       " 18,\n",
       " 2,\n",
       " 5,\n",
       " 62,\n",
       " 386,\n",
       " 12,\n",
       " 8,\n",
       " 316,\n",
       " 8,\n",
       " 106,\n",
       " 5,\n",
       " 4,\n",
       " 2223,\n",
       " 5244,\n",
       " 16,\n",
       " 480,\n",
       " 66,\n",
       " 3785,\n",
       " 33,\n",
       " 4,\n",
       " 130,\n",
       " 12,\n",
       " 16,\n",
       " 38,\n",
       " 619,\n",
       " 5,\n",
       " 25,\n",
       " 124,\n",
       " 51,\n",
       " 36,\n",
       " 135,\n",
       " 48,\n",
       " 25,\n",
       " 1415,\n",
       " 33,\n",
       " 6,\n",
       " 22,\n",
       " 12,\n",
       " 215,\n",
       " 28,\n",
       " 77,\n",
       " 52,\n",
       " 5,\n",
       " 14,\n",
       " 407,\n",
       " 16,\n",
       " 82,\n",
       " 2,\n",
       " 8,\n",
       " 4,\n",
       " 107,\n",
       " 117,\n",
       " 5952,\n",
       " 15,\n",
       " 256,\n",
       " 4,\n",
       " 2,\n",
       " 7,\n",
       " 3766,\n",
       " 5,\n",
       " 723,\n",
       " 36,\n",
       " 71,\n",
       " 43,\n",
       " 530,\n",
       " 476,\n",
       " 26,\n",
       " 400,\n",
       " 317,\n",
       " 46,\n",
       " 7,\n",
       " 4,\n",
       " 2,\n",
       " 1029,\n",
       " 13,\n",
       " 104,\n",
       " 88,\n",
       " 4,\n",
       " 381,\n",
       " 15,\n",
       " 297,\n",
       " 98,\n",
       " 32,\n",
       " 2071,\n",
       " 56,\n",
       " 26,\n",
       " 141,\n",
       " 6,\n",
       " 194,\n",
       " 7486,\n",
       " 18,\n",
       " 4,\n",
       " 226,\n",
       " 22,\n",
       " 21,\n",
       " 134,\n",
       " 476,\n",
       " 26,\n",
       " 480,\n",
       " 5,\n",
       " 144,\n",
       " 30,\n",
       " 5535,\n",
       " 18,\n",
       " 51,\n",
       " 36,\n",
       " 28,\n",
       " 224,\n",
       " 92,\n",
       " 25,\n",
       " 104,\n",
       " 4,\n",
       " 226,\n",
       " 65,\n",
       " 16,\n",
       " 38,\n",
       " 1334,\n",
       " 88,\n",
       " 12,\n",
       " 16,\n",
       " 283,\n",
       " 5,\n",
       " 16,\n",
       " 4472,\n",
       " 113,\n",
       " 103,\n",
       " 32,\n",
       " 15,\n",
       " 16,\n",
       " 5345,\n",
       " 19,\n",
       " 178,\n",
       " 32]"
      ]
     },
     "execution_count": 62,
     "metadata": {},
     "output_type": "execute_result"
    }
   ],
   "source": [
    "train_data[0]"
   ]
  },
  {
   "cell_type": "code",
   "execution_count": 63,
   "id": "902034e3",
   "metadata": {},
   "outputs": [
    {
     "data": {
      "text/plain": [
       "\"? this film was just brilliant casting location scenery story direction everyone's really suited the part they played and you could just imagine being there robert ? is an amazing actor and now the same being director ? father came from the same scottish island as myself so i loved the fact there was a real connection with this film the witty remarks throughout the film were great it was just brilliant so much that i bought the film as soon as it was released for ? and would recommend it to everyone to watch and the fly fishing was amazing really cried at the end it was so sad and you know what they say if you cry at a film it must have been good and this definitely was also ? to the two little boy's that played the ? of norman and paul they were just brilliant children are often left out of the ? list i think because the stars that play them all grown up are such a big profile for the whole film but these children are amazing and should be praised for what they have done don't you think the whole story was so lovely because it was true and was someone's life after all that was shared with us all\""
      ]
     },
     "execution_count": 63,
     "metadata": {},
     "output_type": "execute_result"
    }
   ],
   "source": [
    "word_index = imdb.get_word_index()\n",
    "reversed_word_index = dict([value,key] for (key,value) in word_index.items())\n",
    "decode_review = \" \".join([reversed_word_index.get(i - 3, \"?\") for i in train_data[0]])\n",
    "decode_review"
   ]
  },
  {
   "cell_type": "code",
   "execution_count": 64,
   "id": "fb0773a1",
   "metadata": {},
   "outputs": [],
   "source": [
    "import numpy as np\n",
    "\n",
    "def vectorize_sequences(sequences, dimension = 10000):\n",
    "    results = np.zeros((len(sequences), dimension))\n",
    "    for i, sequence in enumerate(sequences):\n",
    "        results[i, sequence] = 1.\n",
    "    return results"
   ]
  },
  {
   "cell_type": "code",
   "execution_count": 65,
   "id": "7268081f",
   "metadata": {},
   "outputs": [
    {
     "data": {
      "text/plain": [
       "array([0., 1., 1., ..., 0., 0., 0.])"
      ]
     },
     "execution_count": 65,
     "metadata": {},
     "output_type": "execute_result"
    }
   ],
   "source": [
    "x_train = vectorize_sequences(train_data)\n",
    "x_test = vectorize_sequences(test_data)\n",
    "\n",
    "y_train = np.asarray(train_labels).astype(\"float32\")\n",
    "y_test = np.asarray(test_labels).astype(\"float32\")\n",
    "\n",
    "x_train[0]"
   ]
  },
  {
   "cell_type": "code",
   "execution_count": 66,
   "id": "c1a8c91d",
   "metadata": {},
   "outputs": [],
   "source": [
    "x_val = x_train[:10000]\n",
    "partial_x_train = x_train[10000:]\n",
    "\n",
    "y_val = y_train[:10000]\n",
    "partial_y_train = y_train[10000:]"
   ]
  },
  {
   "cell_type": "code",
   "execution_count": 67,
   "id": "93f1da24",
   "metadata": {},
   "outputs": [
    {
     "data": {
      "text/plain": [
       "(15000, 10000)"
      ]
     },
     "execution_count": 67,
     "metadata": {},
     "output_type": "execute_result"
    }
   ],
   "source": [
    "partial_x_train.shape"
   ]
  },
  {
   "cell_type": "code",
   "execution_count": 68,
   "id": "d8f54607",
   "metadata": {},
   "outputs": [
    {
     "data": {
      "text/plain": [
       "(15000,)"
      ]
     },
     "execution_count": 68,
     "metadata": {},
     "output_type": "execute_result"
    }
   ],
   "source": [
    "partial_y_train.shape"
   ]
  },
  {
   "cell_type": "code",
   "execution_count": 69,
   "id": "95a6c118",
   "metadata": {},
   "outputs": [
    {
     "name": "stdout",
     "output_type": "stream",
     "text": [
      "Epoch 1/20\n",
      "30/30 [==============================] - 1s 31ms/step - loss: 0.5364 - accuracy: 0.7608 - val_loss: 0.4295 - val_accuracy: 0.8262\n",
      "Epoch 2/20\n",
      "30/30 [==============================] - 1s 17ms/step - loss: 0.3166 - accuracy: 0.9001 - val_loss: 0.3113 - val_accuracy: 0.8863\n",
      "Epoch 3/20\n",
      "30/30 [==============================] - 0s 16ms/step - loss: 0.2331 - accuracy: 0.9223 - val_loss: 0.2819 - val_accuracy: 0.8895\n",
      "Epoch 4/20\n",
      "30/30 [==============================] - 1s 20ms/step - loss: 0.1828 - accuracy: 0.9413 - val_loss: 0.2789 - val_accuracy: 0.8893\n",
      "Epoch 5/20\n",
      "30/30 [==============================] - 1s 18ms/step - loss: 0.1485 - accuracy: 0.9541 - val_loss: 0.2781 - val_accuracy: 0.8884\n",
      "Epoch 6/20\n",
      "30/30 [==============================] - 0s 13ms/step - loss: 0.1210 - accuracy: 0.9624 - val_loss: 0.3033 - val_accuracy: 0.8833\n",
      "Epoch 7/20\n",
      "30/30 [==============================] - 0s 9ms/step - loss: 0.0967 - accuracy: 0.9721 - val_loss: 0.3070 - val_accuracy: 0.8848\n",
      "Epoch 8/20\n",
      "30/30 [==============================] - 0s 10ms/step - loss: 0.0831 - accuracy: 0.9761 - val_loss: 0.3234 - val_accuracy: 0.8832\n",
      "Epoch 9/20\n",
      "30/30 [==============================] - 0s 11ms/step - loss: 0.0650 - accuracy: 0.9835 - val_loss: 0.3514 - val_accuracy: 0.8808\n",
      "Epoch 10/20\n",
      "30/30 [==============================] - 0s 8ms/step - loss: 0.0550 - accuracy: 0.9865 - val_loss: 0.3717 - val_accuracy: 0.8784\n",
      "Epoch 11/20\n",
      "30/30 [==============================] - 0s 11ms/step - loss: 0.0421 - accuracy: 0.9913 - val_loss: 0.3996 - val_accuracy: 0.8772\n",
      "Epoch 12/20\n",
      "30/30 [==============================] - 0s 10ms/step - loss: 0.0351 - accuracy: 0.9930 - val_loss: 0.4250 - val_accuracy: 0.8757\n",
      "Epoch 13/20\n",
      "30/30 [==============================] - 0s 11ms/step - loss: 0.0282 - accuracy: 0.9951 - val_loss: 0.4544 - val_accuracy: 0.8752\n",
      "Epoch 14/20\n",
      "30/30 [==============================] - 0s 9ms/step - loss: 0.0218 - accuracy: 0.9965 - val_loss: 0.4877 - val_accuracy: 0.8739\n",
      "Epoch 15/20\n",
      "30/30 [==============================] - 0s 10ms/step - loss: 0.0159 - accuracy: 0.9987 - val_loss: 0.5203 - val_accuracy: 0.8709\n",
      "Epoch 16/20\n",
      "30/30 [==============================] - 0s 10ms/step - loss: 0.0123 - accuracy: 0.9991 - val_loss: 0.5571 - val_accuracy: 0.8711\n",
      "Epoch 17/20\n",
      "30/30 [==============================] - 0s 10ms/step - loss: 0.0123 - accuracy: 0.9981 - val_loss: 0.5887 - val_accuracy: 0.8712\n",
      "Epoch 18/20\n",
      "30/30 [==============================] - 0s 10ms/step - loss: 0.0068 - accuracy: 0.9997 - val_loss: 0.6233 - val_accuracy: 0.8685\n",
      "Epoch 19/20\n",
      "30/30 [==============================] - 0s 13ms/step - loss: 0.0063 - accuracy: 0.9995 - val_loss: 0.6606 - val_accuracy: 0.8685\n",
      "Epoch 20/20\n",
      "30/30 [==============================] - 0s 10ms/step - loss: 0.0034 - accuracy: 0.9999 - val_loss: 0.6970 - val_accuracy: 0.8677\n"
     ]
    }
   ],
   "source": [
    "history = model.fit(partial_x_train,\n",
    "                    partial_y_train,\n",
    "                    epochs = 20,\n",
    "                    batch_size = 512,\n",
    "                    validation_data = (x_val, y_val)\n",
    "                    )"
   ]
  },
  {
   "cell_type": "code",
   "execution_count": 14,
   "id": "5b87fd23",
   "metadata": {},
   "outputs": [
    {
     "name": "stdout",
     "output_type": "stream",
     "text": [
      "782/782 [==============================] - 0s 437us/step - loss: 0.5924 - accuracy: 0.8574\n"
     ]
    },
    {
     "data": {
      "text/plain": [
       "[0.5924395322799683, 0.8574000000953674]"
      ]
     },
     "execution_count": 14,
     "metadata": {},
     "output_type": "execute_result"
    }
   ],
   "source": [
    "model.evaluate(x_test, y_test)"
   ]
  },
  {
   "cell_type": "code",
   "execution_count": 70,
   "id": "d386e865",
   "metadata": {},
   "outputs": [
    {
     "data": {
      "text/plain": [
       "[0.826200008392334,\n",
       " 0.8863000273704529,\n",
       " 0.8895000219345093,\n",
       " 0.8892999887466431,\n",
       " 0.8884000182151794,\n",
       " 0.8833000063896179,\n",
       " 0.8848000168800354,\n",
       " 0.8831999897956848,\n",
       " 0.8808000087738037,\n",
       " 0.8784000277519226,\n",
       " 0.8772000074386597,\n",
       " 0.8756999969482422,\n",
       " 0.8751999735832214,\n",
       " 0.8738999962806702,\n",
       " 0.8708999752998352,\n",
       " 0.8711000084877014,\n",
       " 0.8712000250816345,\n",
       " 0.8684999942779541,\n",
       " 0.8684999942779541,\n",
       " 0.8676999807357788]"
      ]
     },
     "execution_count": 70,
     "metadata": {},
     "output_type": "execute_result"
    }
   ],
   "source": [
    "history_dict = history.history\n",
    "history_dict.keys()\n",
    "history_dict[\"val_accuracy\"]"
   ]
  },
  {
   "cell_type": "code",
   "execution_count": 71,
   "id": "05b749be",
   "metadata": {},
   "outputs": [],
   "source": [
    "import matplotlib.pyplot as plt\n",
    "\n",
    "\n",
    "\n",
    "accuracy = history_dict[\"accuracy\"]\n",
    "loss = history_dict[\"loss\"]\n",
    "\n",
    "validation_loss = history_dict[\"val_loss\"]\n",
    "validation_accuracy = history_dict[\"val_accuracy\"]\n",
    "\n",
    "epochs = range(1, len(accuracy) + 1)\n"
   ]
  },
  {
   "cell_type": "code",
   "execution_count": 72,
   "id": "10eed55c",
   "metadata": {
    "scrolled": true
   },
   "outputs": [
    {
     "data": {
      "image/png": "[encoded data removed]",
      "text/plain": [
       "<Figure size 640x480 with 1 Axes>"
      ]
     },
     "metadata": {},
     "output_type": "display_data"
    }
   ],
   "source": [
    "plt.plot(epochs, loss, \"bo\", label = \"Training Loss\")\n",
    "plt.plot(epochs, validation_loss, \"b\", label = \"Validation Loss\")\n",
    "plt.title(\"Training and Validation loss\")\n",
    "plt.xlabel(\"Epoch\")\n",
    "plt.ylabel(\"Loss\")\n",
    "plt.legend()\n",
    "\n",
    "plt.show()"
   ]
  },
  {
   "cell_type": "code",
   "execution_count": 73,
   "id": "df0e979d",
   "metadata": {},
   "outputs": [
    {
     "data": {
      "image/png": "[encoded data removed]",
      "text/plain": [
       "<Figure size 640x480 with 1 Axes>"
      ]
     },
     "metadata": {},
     "output_type": "display_data"
    }
   ],
   "source": [
    "plt.plot(epochs, accuracy, \"bo\", label = \"Training accuracy\")\n",
    "plt.plot(epochs, validation_accuracy, \"b\", label = \"Validation accuracy\")\n",
    "plt.title(\"Training and Validation accuracy\")\n",
    "plt.xlabel(\"Epoch\")\n",
    "plt.ylabel(\"accuracy\")\n",
    "plt.legend()\n",
    "\n",
    "plt.show()"
   ]
  },
  {
   "cell_type": "code",
   "execution_count": 74,
   "id": "183aab64",
   "metadata": {},
   "outputs": [
    {
     "name": "stdout",
     "output_type": "stream",
     "text": [
      "782/782 [==============================] - 0s 409us/step\n"
     ]
    },
    {
     "data": {
      "text/plain": [
       "(25000, 1)"
      ]
     },
     "execution_count": 74,
     "metadata": {},
     "output_type": "execute_result"
    }
   ],
   "source": [
    "model.predict(x_test).shape"
   ]
  },
  {
   "cell_type": "code",
   "execution_count": 75,
   "id": "fb0b06fc",
   "metadata": {},
   "outputs": [],
   "source": [
    "predict_content = \"The film is just amzaing and I really enjoy this\""
   ]
  },
  {
   "cell_type": "code",
   "execution_count": 76,
   "id": "9eda71de",
   "metadata": {},
   "outputs": [],
   "source": [
    "predict_sequence = []\n",
    "for i in predict_content.split(\" \"):\n",
    "    predict_sequence.append(word_index.get(i, 0) + 3)"
   ]
  },
  {
   "cell_type": "code",
   "execution_count": 77,
   "id": "1e86dc90",
   "metadata": {},
   "outputs": [
    {
     "data": {
      "text/plain": [
       "[3, 22, 9, 43, 3, 5, 3, 66, 358, 14]"
      ]
     },
     "execution_count": 77,
     "metadata": {},
     "output_type": "execute_result"
    }
   ],
   "source": [
    "predict_sequence"
   ]
  },
  {
   "cell_type": "code",
   "execution_count": 78,
   "id": "89490ea0",
   "metadata": {},
   "outputs": [
    {
     "data": {
      "text/plain": [
       "array([[0., 0., 0., ..., 0., 0., 0.],\n",
       "       [0., 0., 0., ..., 0., 0., 0.],\n",
       "       [0., 0., 0., ..., 0., 0., 0.],\n",
       "       ...,\n",
       "       [0., 0., 0., ..., 0., 0., 0.],\n",
       "       [0., 0., 0., ..., 0., 0., 0.],\n",
       "       [0., 0., 0., ..., 0., 0., 0.]])"
      ]
     },
     "execution_count": 78,
     "metadata": {},
     "output_type": "execute_result"
    }
   ],
   "source": [
    "vectorized_predict_sequence = vectorize_sequences(predict_sequence)\n",
    "vectorized_predict_sequence"
   ]
  },
  {
   "cell_type": "code",
   "execution_count": 79,
   "id": "0a45d7b4",
   "metadata": {
    "scrolled": true
   },
   "outputs": [
    {
     "name": "stdout",
     "output_type": "stream",
     "text": [
      "1/1 [==============================] - 0s 16ms/step\n"
     ]
    }
   ],
   "source": [
    "result = model.predict(vectorized_predict_sequence)"
   ]
  },
  {
   "cell_type": "code",
   "execution_count": 80,
   "id": "1b432aa8",
   "metadata": {},
   "outputs": [],
   "source": [
    "def word_to_sequence(content):\n",
    "    predict_sequence = []\n",
    "    for i in content.split(\" \"):\n",
    "        predict_sequence.append(word_index.get(i, 0) + 3)\n",
    "    return [predict_sequence]"
   ]
  },
  {
   "cell_type": "code",
   "execution_count": 81,
   "id": "45f972c9",
   "metadata": {},
   "outputs": [],
   "source": [
    "def vectorize_sequences_by_index(sequences, dimension = 10000):\n",
    "    results = np.zeros((len(sequences), dimension))\n",
    "    for i, sequence in enumerate(sequences):\n",
    "        results[i, sequence] = 1.\n",
    "    return results"
   ]
  },
  {
   "cell_type": "code",
   "execution_count": 82,
   "id": "acc5903b",
   "metadata": {},
   "outputs": [],
   "source": [
    "def predict_sequence(sequence):\n",
    "    result = model.predict(sequence)\n",
    "    print(result)\n",
    "    if result[0,0] >= 0.70:\n",
    "        print(\"Really Positive\")\n",
    "    \n",
    "    elif result[0,0] >= 0.6:\n",
    "        print(\"Probably Positive\")\n",
    "    \n",
    "    elif result[0,0] >= 0.51:\n",
    "        print(\"Slightly Positive\")\n",
    "    \n",
    "    elif result[0,0] >= 0.4:\n",
    "        print(\"Slightly Negetive\")\n",
    "    \n",
    "    elif result[0,0] >= 0.3:\n",
    "        print(\"Probably Negetive\")\n",
    "    \n",
    "    else:\n",
    "        print(\"Really Negetive\")\n",
    "        "
   ]
  },
  {
   "cell_type": "code",
   "execution_count": 83,
   "id": "f17b659b",
   "metadata": {},
   "outputs": [],
   "source": [
    "def predict_content(content):\n",
    "    sequence = word_to_sequence(content)\n",
    "    vectorized_sequence = vectorize_sequences_by_index(sequence)\n",
    "    predict_sequence(vectorized_sequence)"
   ]
  },
  {
   "cell_type": "code",
   "execution_count": 85,
   "id": "90096769",
   "metadata": {},
   "outputs": [
    {
     "name": "stdout",
     "output_type": "stream",
     "text": [
      "This is the worst movie I have ever seen\n",
      "1/1 [==============================] - 0s 61ms/step\n",
      "[[0.09116559]]\n",
      "Really Negetive\n"
     ]
    }
   ],
   "source": [
    "content = input()\n",
    "predict_content(content)"
   ]
  },
  {
   "cell_type": "code",
   "execution_count": null,
   "id": "401cb67d",
   "metadata": {},
   "outputs": [],
   "source": []
  }
 ],
 "metadata": {
  "kernelspec": {
   "display_name": "Python 3 (ipykernel)",
   "language": "python",
   "name": "python3"
  },
  "language_info": {
   "codemirror_mode": {
    "name": "ipython",
    "version": 3
   },
   "file_extension": ".py",
   "mimetype": "text/x-python",
   "name": "python",
   "nbconvert_exporter": "python",
   "pygments_lexer": "ipython3",
   "version": "3.1.0"
  }
 },
 "nbformat": 4,
 "nbformat_minor": 5
}
